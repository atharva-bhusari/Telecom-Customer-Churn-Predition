{
 "cells": [
  {
   "cell_type": "code",
   "execution_count": 17,
   "id": "62255143",
   "metadata": {
    "_cell_guid": "b1076dfc-b9ad-4769-8c92-a6c4dae69d19",
    "_uuid": "8f2839f25d086af736a60e9eeb907d3b93b6e0e5",
    "execution": {
     "iopub.execute_input": "2023-04-05T02:55:33.293990Z",
     "iopub.status.busy": "2023-04-05T02:55:33.293406Z",
     "iopub.status.idle": "2023-04-05T02:55:34.942319Z",
     "shell.execute_reply": "2023-04-05T02:55:34.940960Z"
    },
    "papermill": {
     "duration": 1.660025,
     "end_time": "2023-04-05T02:55:34.945562",
     "exception": false,
     "start_time": "2023-04-05T02:55:33.285537",
     "status": "completed"
    },
    "tags": []
   },
   "outputs": [],
   "source": [
    "import numpy as np\n",
    "import pandas as pd\n",
    "\n",
    "from matplotlib import pyplot as plt\n",
    "import seaborn as sns\n",
    "\n",
    "from sklearn.feature_selection import VarianceThreshold\n",
    "from sklearn.preprocessing import normalize\n",
    "from sklearn.decomposition import PCA\n",
    "from sklearn.ensemble import RandomForestClassifier"
   ]
  },
  {
   "cell_type": "code",
   "execution_count": 18,
   "id": "2aa14987",
   "metadata": {
    "execution": {
     "iopub.execute_input": "2023-04-05T02:55:34.957070Z",
     "iopub.status.busy": "2023-04-05T02:55:34.956648Z",
     "iopub.status.idle": "2023-04-05T02:55:34.963186Z",
     "shell.execute_reply": "2023-04-05T02:55:34.962073Z"
    },
    "papermill": {
     "duration": 0.015756,
     "end_time": "2023-04-05T02:55:34.966098",
     "exception": false,
     "start_time": "2023-04-05T02:55:34.950342",
     "status": "completed"
    },
    "tags": []
   },
   "outputs": [],
   "source": [
    "import warnings\n",
    "warnings.filterwarnings('ignore')"
   ]
  },
  {
   "cell_type": "markdown",
   "id": "3f624313",
   "metadata": {
    "papermill": {
     "duration": 0.004252,
     "end_time": "2023-04-05T02:55:34.974997",
     "exception": false,
     "start_time": "2023-04-05T02:55:34.970745",
     "status": "completed"
    },
    "tags": []
   },
   "source": [
    "### 1. Loading the train and test data"
   ]
  },
  {
   "cell_type": "code",
   "execution_count": 19,
   "id": "e89fa39e",
   "metadata": {
    "execution": {
     "iopub.execute_input": "2023-04-05T02:55:34.988039Z",
     "iopub.status.busy": "2023-04-05T02:55:34.986834Z",
     "iopub.status.idle": "2023-04-05T02:55:40.884162Z",
     "shell.execute_reply": "2023-04-05T02:55:40.882838Z"
    },
    "papermill": {
     "duration": 5.90655,
     "end_time": "2023-04-05T02:55:40.887131",
     "exception": false,
     "start_time": "2023-04-05T02:55:34.980581",
     "status": "completed"
    },
    "tags": []
   },
   "outputs": [],
   "source": [
    "df_train = pd.read_csv(\"data/train.csv\")\n",
    "df_test = pd.read_csv(\"data/test.csv\")\n",
    "\n",
    "\n",
    "train = df_train.drop(['TARGET'], axis=1)"
   ]
  },
  {
   "cell_type": "markdown",
   "id": "7b504155",
   "metadata": {
    "papermill": {
     "duration": 0.004443,
     "end_time": "2023-04-05T02:55:41.022712",
     "exception": false,
     "start_time": "2023-04-05T02:55:41.018269",
     "status": "completed"
    },
    "tags": []
   },
   "source": [
    "##### We notice that there are a huge number of features, hence, we proceed with Feature Selection to choose only the ones that contribute to the need."
   ]
  },
  {
   "cell_type": "markdown",
   "id": "173baa45",
   "metadata": {
    "papermill": {
     "duration": 0.004317,
     "end_time": "2023-04-05T02:55:41.031754",
     "exception": false,
     "start_time": "2023-04-05T02:55:41.027437",
     "status": "completed"
    },
    "tags": []
   },
   "source": [
    "### 2. Feature Selection\n",
    "\n",
    "With the dataset with so many features, we might run into problems such as:\n",
    "\n",
    "<ol>\n",
    "<li><b>Constant features:</b></li>\n",
    "<ul>\n",
    "    <li>Features that show the same value, one value, for all the observations of the dataset.</li>\n",
    "    <li>They provide no information that allows a machine learning model to predict the target.</li>\n",
    "    <li>To identify constant features, we are using VarianceThreshold from sklearn and remove them.</li>\n",
    "</ul>\n",
    "    \n",
    "<h6></h6>\n",
    "    \n",
    "<li><b>Quasi-Constant features:</b></li>\n",
    "<ul>\n",
    "    <li>Quasi-constant features have the same value for the majority of observations in a dataset. </li>\n",
    "    <li>These types of features typically do not provide much information for machine learning models to predict or classify a target.</li>\n",
    "    <li>To identify quasi-constant features, we are again going to use VarianceThreshold from sklearn and remove them.</li>\n",
    "</ul>"
   ]
  },
  {
   "cell_type": "code",
   "execution_count": 21,
   "id": "8368beb2",
   "metadata": {
    "execution": {
     "iopub.execute_input": "2023-04-05T02:55:41.044179Z",
     "iopub.status.busy": "2023-04-05T02:55:41.043410Z",
     "iopub.status.idle": "2023-04-05T02:55:41.458671Z",
     "shell.execute_reply": "2023-04-05T02:55:41.457200Z"
    },
    "papermill": {
     "duration": 0.424719,
     "end_time": "2023-04-05T02:55:41.461646",
     "exception": false,
     "start_time": "2023-04-05T02:55:41.036927",
     "status": "completed"
    },
    "tags": []
   },
   "outputs": [
    {
     "data": {
      "text/html": [
       "<style>#sk-container-id-3 {color: black;background-color: white;}#sk-container-id-3 pre{padding: 0;}#sk-container-id-3 div.sk-toggleable {background-color: white;}#sk-container-id-3 label.sk-toggleable__label {cursor: pointer;display: block;width: 100%;margin-bottom: 0;padding: 0.3em;box-sizing: border-box;text-align: center;}#sk-container-id-3 label.sk-toggleable__label-arrow:before {content: \"▸\";float: left;margin-right: 0.25em;color: #696969;}#sk-container-id-3 label.sk-toggleable__label-arrow:hover:before {color: black;}#sk-container-id-3 div.sk-estimator:hover label.sk-toggleable__label-arrow:before {color: black;}#sk-container-id-3 div.sk-toggleable__content {max-height: 0;max-width: 0;overflow: hidden;text-align: left;background-color: #f0f8ff;}#sk-container-id-3 div.sk-toggleable__content pre {margin: 0.2em;color: black;border-radius: 0.25em;background-color: #f0f8ff;}#sk-container-id-3 input.sk-toggleable__control:checked~div.sk-toggleable__content {max-height: 200px;max-width: 100%;overflow: auto;}#sk-container-id-3 input.sk-toggleable__control:checked~label.sk-toggleable__label-arrow:before {content: \"▾\";}#sk-container-id-3 div.sk-estimator input.sk-toggleable__control:checked~label.sk-toggleable__label {background-color: #d4ebff;}#sk-container-id-3 div.sk-label input.sk-toggleable__control:checked~label.sk-toggleable__label {background-color: #d4ebff;}#sk-container-id-3 input.sk-hidden--visually {border: 0;clip: rect(1px 1px 1px 1px);clip: rect(1px, 1px, 1px, 1px);height: 1px;margin: -1px;overflow: hidden;padding: 0;position: absolute;width: 1px;}#sk-container-id-3 div.sk-estimator {font-family: monospace;background-color: #f0f8ff;border: 1px dotted black;border-radius: 0.25em;box-sizing: border-box;margin-bottom: 0.5em;}#sk-container-id-3 div.sk-estimator:hover {background-color: #d4ebff;}#sk-container-id-3 div.sk-parallel-item::after {content: \"\";width: 100%;border-bottom: 1px solid gray;flex-grow: 1;}#sk-container-id-3 div.sk-label:hover label.sk-toggleable__label {background-color: #d4ebff;}#sk-container-id-3 div.sk-serial::before {content: \"\";position: absolute;border-left: 1px solid gray;box-sizing: border-box;top: 0;bottom: 0;left: 50%;z-index: 0;}#sk-container-id-3 div.sk-serial {display: flex;flex-direction: column;align-items: center;background-color: white;padding-right: 0.2em;padding-left: 0.2em;position: relative;}#sk-container-id-3 div.sk-item {position: relative;z-index: 1;}#sk-container-id-3 div.sk-parallel {display: flex;align-items: stretch;justify-content: center;background-color: white;position: relative;}#sk-container-id-3 div.sk-item::before, #sk-container-id-3 div.sk-parallel-item::before {content: \"\";position: absolute;border-left: 1px solid gray;box-sizing: border-box;top: 0;bottom: 0;left: 50%;z-index: -1;}#sk-container-id-3 div.sk-parallel-item {display: flex;flex-direction: column;z-index: 1;position: relative;background-color: white;}#sk-container-id-3 div.sk-parallel-item:first-child::after {align-self: flex-end;width: 50%;}#sk-container-id-3 div.sk-parallel-item:last-child::after {align-self: flex-start;width: 50%;}#sk-container-id-3 div.sk-parallel-item:only-child::after {width: 0;}#sk-container-id-3 div.sk-dashed-wrapped {border: 1px dashed gray;margin: 0 0.4em 0.5em 0.4em;box-sizing: border-box;padding-bottom: 0.4em;background-color: white;}#sk-container-id-3 div.sk-label label {font-family: monospace;font-weight: bold;display: inline-block;line-height: 1.2em;}#sk-container-id-3 div.sk-label-container {text-align: center;}#sk-container-id-3 div.sk-container {/* jupyter's `normalize.less` sets `[hidden] { display: none; }` but bootstrap.min.css set `[hidden] { display: none !important; }` so we also need the `!important` here to be able to override the default hidden behavior on the sphinx rendered scikit-learn.org. See: https://github.com/scikit-learn/scikit-learn/issues/21755 */display: inline-block !important;position: relative;}#sk-container-id-3 div.sk-text-repr-fallback {display: none;}</style><div id=\"sk-container-id-3\" class=\"sk-top-container\"><div class=\"sk-text-repr-fallback\"><pre>VarianceThreshold(threshold=0.05)</pre><b>In a Jupyter environment, please rerun this cell to show the HTML representation or trust the notebook. <br />On GitHub, the HTML representation is unable to render, please try loading this page with nbviewer.org.</b></div><div class=\"sk-container\" hidden><div class=\"sk-item\"><div class=\"sk-estimator sk-toggleable\"><input class=\"sk-toggleable__control sk-hidden--visually\" id=\"sk-estimator-id-3\" type=\"checkbox\" checked><label for=\"sk-estimator-id-3\" class=\"sk-toggleable__label sk-toggleable__label-arrow\">VarianceThreshold</label><div class=\"sk-toggleable__content\"><pre>VarianceThreshold(threshold=0.05)</pre></div></div></div></div></div>"
      ],
      "text/plain": [
       "VarianceThreshold(threshold=0.05)"
      ]
     },
     "execution_count": 21,
     "metadata": {},
     "output_type": "execute_result"
    }
   ],
   "source": [
    "#Fitting the VarianceThreshold\n",
    "\n",
    "vthres = VarianceThreshold(threshold = 0.05)\n",
    "vthres.fit(train)"
   ]
  },
  {
   "cell_type": "code",
   "execution_count": 22,
   "id": "0a02fea5",
   "metadata": {
    "execution": {
     "iopub.execute_input": "2023-04-05T02:55:41.474726Z",
     "iopub.status.busy": "2023-04-05T02:55:41.473207Z",
     "iopub.status.idle": "2023-04-05T02:55:41.483140Z",
     "shell.execute_reply": "2023-04-05T02:55:41.481504Z"
    },
    "papermill": {
     "duration": 0.019333,
     "end_time": "2023-04-05T02:55:41.486154",
     "exception": false,
     "start_time": "2023-04-05T02:55:41.466821",
     "status": "completed"
    },
    "tags": []
   },
   "outputs": [
    {
     "name": "stdout",
     "output_type": "stream",
     "text": [
      "Originial Features:  370\n",
      "Non-Constant Features:  236\n"
     ]
    }
   ],
   "source": [
    "#Number of features that are non-constant\n",
    "\n",
    "print(\"Originial Features: \",train.shape[1])\n",
    "print(\"Non-Constant Features: \", sum(vthres.get_support()))"
   ]
  },
  {
   "cell_type": "code",
   "execution_count": 23,
   "id": "3eaf4df8",
   "metadata": {
    "execution": {
     "iopub.execute_input": "2023-04-05T02:55:41.499685Z",
     "iopub.status.busy": "2023-04-05T02:55:41.498147Z",
     "iopub.status.idle": "2023-04-05T02:55:41.536483Z",
     "shell.execute_reply": "2023-04-05T02:55:41.535300Z"
    },
    "papermill": {
     "duration": 0.048021,
     "end_time": "2023-04-05T02:55:41.539299",
     "exception": false,
     "start_time": "2023-04-05T02:55:41.491278",
     "status": "completed"
    },
    "tags": []
   },
   "outputs": [
    {
     "name": "stdout",
     "output_type": "stream",
     "text": [
      "134\n"
     ]
    }
   ],
   "source": [
    "# printing the constant features\n",
    "\n",
    "print(len([\n",
    "        x for x in train.columns\n",
    "        if x not in train.columns[vthres.get_support()]\n",
    "    ]))\n",
    "\n",
    "columns_drop = [x for x in train.columns if x not in train.columns[vthres.get_support()]]"
   ]
  },
  {
   "cell_type": "markdown",
   "id": "8ad67d3d",
   "metadata": {
    "papermill": {
     "duration": 0.005541,
     "end_time": "2023-04-05T02:55:41.550036",
     "exception": false,
     "start_time": "2023-04-05T02:55:41.544495",
     "status": "completed"
    },
    "tags": []
   },
   "source": [
    "> We can see the above 34 columns have constant value hence we are going to get rid of them, as they make no contributions."
   ]
  },
  {
   "cell_type": "code",
   "execution_count": 24,
   "id": "2436a720",
   "metadata": {},
   "outputs": [],
   "source": [
    "#Dropping the Quasi-Constant columns\n",
    "\n",
    "df_train = df_train.drop(columns_drop, axis=1)\n",
    "df_test = df_test.drop(columns_drop, axis = 1)"
   ]
  },
  {
   "cell_type": "code",
   "execution_count": 25,
   "id": "ccb28158",
   "metadata": {
    "execution": {
     "iopub.execute_input": "2023-04-05T02:55:41.852443Z",
     "iopub.status.busy": "2023-04-05T02:55:41.852000Z",
     "iopub.status.idle": "2023-04-05T02:55:41.860102Z",
     "shell.execute_reply": "2023-04-05T02:55:41.858715Z"
    },
    "papermill": {
     "duration": 0.01754,
     "end_time": "2023-04-05T02:55:41.862829",
     "exception": false,
     "start_time": "2023-04-05T02:55:41.845289",
     "status": "completed"
    },
    "tags": []
   },
   "outputs": [
    {
     "data": {
      "text/plain": [
       "((76020, 237), (75818, 236))"
      ]
     },
     "execution_count": 25,
     "metadata": {},
     "output_type": "execute_result"
    }
   ],
   "source": [
    "# Checking the updated shape of train and test data\n",
    "\n",
    "df_train.shape, df_test.shape"
   ]
  },
  {
   "attachments": {},
   "cell_type": "markdown",
   "id": "0f234dcf",
   "metadata": {},
   "source": [
    "New Info"
   ]
  },
  {
   "cell_type": "code",
   "execution_count": null,
   "id": "d91153dd",
   "metadata": {},
   "outputs": [],
   "source": []
  },
  {
   "cell_type": "code",
   "execution_count": null,
   "id": "77c78dea",
   "metadata": {},
   "outputs": [],
   "source": []
  },
  {
   "cell_type": "markdown",
   "id": "6307f4aa",
   "metadata": {
    "papermill": {
     "duration": 0.004807,
     "end_time": "2023-04-05T02:55:41.873008",
     "exception": false,
     "start_time": "2023-04-05T02:55:41.868201",
     "status": "completed"
    },
    "tags": []
   },
   "source": [
    "<span style = 'font-size:16px; font-family:TimesNewRoman'> By removing constant and quasi-constant features, we reduced the feature space from 370 to 273. We can see that 97 features were removed from the present dataset.</span>"
   ]
  },
  {
   "cell_type": "markdown",
   "id": "fa436c38",
   "metadata": {
    "papermill": {
     "duration": 0.004809,
     "end_time": "2023-04-05T02:55:41.883008",
     "exception": false,
     "start_time": "2023-04-05T02:55:41.878199",
     "status": "completed"
    },
    "tags": []
   },
   "source": [
    "### PCA\n",
    "\n",
    "PCA stands for Principal Component Analysis. It is a statistical technique used to reduce the dimensionality of a dataset while retaining as much of the variation in the data as possible.\n",
    "\n",
    "PCA works by transforming a dataset consisting of many variables into a smaller set of variables called principal components. The principal components are linear combinations of the original variables that capture the maximum amount of variation in the data.\n",
    "\n",
    "The first principal component captures the most variation in the data, the second principal component captures the second most variation, and so on. By retaining only the top principal components, PCA can reduce the number of variables in the dataset while still preserving most of the information.\n",
    "\n",
    "PCA is often used in data preprocessing, data visualization, and machine learning. It can be used to identify patterns and relationships in the data, to reduce noise, and to create more parsimonious models."
   ]
  },
  {
   "cell_type": "code",
   "execution_count": null,
   "id": "d513b443",
   "metadata": {
    "execution": {
     "iopub.execute_input": "2023-04-05T00:50:54.756357Z",
     "iopub.status.busy": "2023-04-05T00:50:54.755602Z",
     "iopub.status.idle": "2023-04-05T00:50:54.769079Z",
     "shell.execute_reply": "2023-04-05T00:50:54.767426Z",
     "shell.execute_reply.started": "2023-04-05T00:50:54.756309Z"
    },
    "papermill": {
     "duration": 0.005312,
     "end_time": "2023-04-05T02:55:41.893828",
     "exception": false,
     "start_time": "2023-04-05T02:55:41.888516",
     "status": "completed"
    },
    "tags": []
   },
   "outputs": [],
   "source": []
  }
 ],
 "metadata": {
  "kernelspec": {
   "display_name": "Python 3",
   "language": "python",
   "name": "python3"
  },
  "language_info": {
   "codemirror_mode": {
    "name": "ipython",
    "version": 3
   },
   "file_extension": ".py",
   "mimetype": "text/x-python",
   "name": "python",
   "nbconvert_exporter": "python",
   "pygments_lexer": "ipython3",
   "version": "3.10.6"
  },
  "papermill": {
   "default_parameters": {},
   "duration": 20.646417,
   "end_time": "2023-04-05T02:55:42.723787",
   "environment_variables": {},
   "exception": null,
   "input_path": "__notebook__.ipynb",
   "output_path": "__notebook__.ipynb",
   "parameters": {},
   "start_time": "2023-04-05T02:55:22.077370",
   "version": "2.4.0"
  }
 },
 "nbformat": 4,
 "nbformat_minor": 5
}
