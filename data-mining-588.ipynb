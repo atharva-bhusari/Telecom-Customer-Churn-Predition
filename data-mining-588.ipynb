{
 "cells": [
  {
   "cell_type": "code",
   "execution_count": 1,
   "id": "465b89c2",
   "metadata": {
    "_cell_guid": "b1076dfc-b9ad-4769-8c92-a6c4dae69d19",
    "_uuid": "8f2839f25d086af736a60e9eeb907d3b93b6e0e5",
    "execution": {
     "iopub.execute_input": "2023-04-05T02:24:22.629892Z",
     "iopub.status.busy": "2023-04-05T02:24:22.629357Z",
     "iopub.status.idle": "2023-04-05T02:24:24.188185Z",
     "shell.execute_reply": "2023-04-05T02:24:24.186195Z"
    },
    "papermill": {
     "duration": 1.571838,
     "end_time": "2023-04-05T02:24:24.191379",
     "exception": false,
     "start_time": "2023-04-05T02:24:22.619541",
     "status": "completed"
    },
    "tags": []
   },
   "outputs": [],
   "source": [
    "import itertools\n",
    "\n",
    "import numpy as np\n",
    "import pandas as pd\n",
    "\n",
    "from matplotlib import pyplot as plt\n",
    "import seaborn as sns\n",
    "\n",
    "from sklearn.feature_selection import VarianceThreshold\n",
    "from sklearn.preprocessing import normalize\n",
    "from sklearn.decomposition import PCA"
   ]
  },
  {
   "cell_type": "code",
   "execution_count": 2,
   "id": "54b34ac1",
   "metadata": {
    "execution": {
     "iopub.execute_input": "2023-04-05T02:24:24.205550Z",
     "iopub.status.busy": "2023-04-05T02:24:24.205144Z",
     "iopub.status.idle": "2023-04-05T02:24:24.211377Z",
     "shell.execute_reply": "2023-04-05T02:24:24.209592Z"
    },
    "papermill": {
     "duration": 0.016074,
     "end_time": "2023-04-05T02:24:24.213735",
     "exception": false,
     "start_time": "2023-04-05T02:24:24.197661",
     "status": "completed"
    },
    "tags": []
   },
   "outputs": [],
   "source": [
    "import warnings\n",
    "warnings.filterwarnings('ignore')"
   ]
  },
  {
   "cell_type": "markdown",
   "id": "9a027908",
   "metadata": {
    "papermill": {
     "duration": 0.005801,
     "end_time": "2023-04-05T02:24:24.225613",
     "exception": false,
     "start_time": "2023-04-05T02:24:24.219812",
     "status": "completed"
    },
    "tags": []
   },
   "source": [
    "### 1. Loading the train and test data"
   ]
  },
  {
   "cell_type": "code",
   "execution_count": 3,
   "id": "424e51c1",
   "metadata": {
    "execution": {
     "iopub.execute_input": "2023-04-05T02:24:24.239535Z",
     "iopub.status.busy": "2023-04-05T02:24:24.239136Z",
     "iopub.status.idle": "2023-04-05T02:24:28.322602Z",
     "shell.execute_reply": "2023-04-05T02:24:28.321609Z"
    },
    "papermill": {
     "duration": 4.093351,
     "end_time": "2023-04-05T02:24:28.325034",
     "exception": false,
     "start_time": "2023-04-05T02:24:24.231683",
     "status": "completed"
    },
    "tags": []
   },
   "outputs": [],
   "source": [
    "df_train = pd.read_csv(\"/kaggle/input/santander-customer-satisfaction/train.csv\")\n",
    "df_test = pd.read_csv(\"/kaggle/input/santander-customer-satisfaction/test.csv\")"
   ]
  },
  {
   "cell_type": "code",
   "execution_count": 4,
   "id": "bae96b30",
   "metadata": {
    "execution": {
     "iopub.execute_input": "2023-04-05T02:24:28.338512Z",
     "iopub.status.busy": "2023-04-05T02:24:28.338109Z",
     "iopub.status.idle": "2023-04-05T02:24:28.384280Z",
     "shell.execute_reply": "2023-04-05T02:24:28.382844Z"
    },
    "papermill": {
     "duration": 0.055924,
     "end_time": "2023-04-05T02:24:28.386927",
     "exception": false,
     "start_time": "2023-04-05T02:24:28.331003",
     "status": "completed"
    },
    "tags": []
   },
   "outputs": [],
   "source": [
    "X_train = df_train.drop(labels=['TARGET'], axis = 1)\n",
    "y_train = df_train['TARGET']"
   ]
  },
  {
   "cell_type": "code",
   "execution_count": 5,
   "id": "ac781423",
   "metadata": {
    "execution": {
     "iopub.execute_input": "2023-04-05T02:24:28.400408Z",
     "iopub.status.busy": "2023-04-05T02:24:28.400032Z",
     "iopub.status.idle": "2023-04-05T02:24:28.408731Z",
     "shell.execute_reply": "2023-04-05T02:24:28.407196Z"
    },
    "papermill": {
     "duration": 0.018108,
     "end_time": "2023-04-05T02:24:28.410895",
     "exception": false,
     "start_time": "2023-04-05T02:24:28.392787",
     "status": "completed"
    },
    "tags": []
   },
   "outputs": [
    {
     "data": {
      "text/plain": [
       "((76020, 370), (75818, 370))"
      ]
     },
     "execution_count": 5,
     "metadata": {},
     "output_type": "execute_result"
    }
   ],
   "source": [
    "X_train.shape, df_test.shape"
   ]
  },
  {
   "cell_type": "markdown",
   "id": "21cf42ae",
   "metadata": {
    "papermill": {
     "duration": 0.006307,
     "end_time": "2023-04-05T02:24:28.423895",
     "exception": false,
     "start_time": "2023-04-05T02:24:28.417588",
     "status": "completed"
    },
    "tags": []
   },
   "source": [
    "### 2. Feature Selection\n",
    "\n",
    "With the dataset with so many features, we might run into problems such as:\n",
    "\n",
    "<ol>\n",
    "<li><b>Constant features:</b></li>\n",
    "<ul>\n",
    "    <li>Features that show the same value, one value, for all the observations of the dataset.</li>\n",
    "    <li>They provide no information that allows a machine learning model to predict the target.</li>\n",
    "    <li>To identify constant features, we are using VarianceThreshold from sklearn and remove them.</li>\n",
    "</ul>\n",
    "    \n",
    "<h6></h6>\n",
    "    \n",
    "<li><b>Quasi-Constant features:</b></li>\n",
    "<ul>\n",
    "    <li>Quasi-constant features have the same value for the majority of observations in a dataset. </li>\n",
    "    <li>These types of features typically do not provide much information for machine learning models to predict or classify a target.</li>\n",
    "    <li>To identify quasi-constant features, we are again going to use VarianceThreshold from sklearn and remove them.</li>\n",
    "</ul>"
   ]
  },
  {
   "cell_type": "markdown",
   "id": "45942b51",
   "metadata": {
    "papermill": {
     "duration": 0.006295,
     "end_time": "2023-04-05T02:24:28.436729",
     "exception": false,
     "start_time": "2023-04-05T02:24:28.430434",
     "status": "completed"
    },
    "tags": []
   },
   "source": [
    "#### 2.1 Constant Features"
   ]
  },
  {
   "cell_type": "code",
   "execution_count": 6,
   "id": "fd7edfa6",
   "metadata": {
    "execution": {
     "iopub.execute_input": "2023-04-05T02:24:28.452295Z",
     "iopub.status.busy": "2023-04-05T02:24:28.451789Z",
     "iopub.status.idle": "2023-04-05T02:24:28.676359Z",
     "shell.execute_reply": "2023-04-05T02:24:28.674717Z"
    },
    "papermill": {
     "duration": 0.236031,
     "end_time": "2023-04-05T02:24:28.679343",
     "exception": false,
     "start_time": "2023-04-05T02:24:28.443312",
     "status": "completed"
    },
    "tags": []
   },
   "outputs": [
    {
     "data": {
      "text/plain": [
       "VarianceThreshold(threshold=0)"
      ]
     },
     "execution_count": 6,
     "metadata": {},
     "output_type": "execute_result"
    }
   ],
   "source": [
    "#Fitting the VarianceThreshold\n",
    "\n",
    "vthres = VarianceThreshold(threshold = 0)\n",
    "vthres.fit(X_train)"
   ]
  },
  {
   "cell_type": "code",
   "execution_count": 7,
   "id": "29c67c4c",
   "metadata": {
    "execution": {
     "iopub.execute_input": "2023-04-05T02:24:28.693838Z",
     "iopub.status.busy": "2023-04-05T02:24:28.693398Z",
     "iopub.status.idle": "2023-04-05T02:24:28.700217Z",
     "shell.execute_reply": "2023-04-05T02:24:28.699001Z"
    },
    "papermill": {
     "duration": 0.016564,
     "end_time": "2023-04-05T02:24:28.702210",
     "exception": false,
     "start_time": "2023-04-05T02:24:28.685646",
     "status": "completed"
    },
    "tags": []
   },
   "outputs": [
    {
     "name": "stdout",
     "output_type": "stream",
     "text": [
      "Originial Features:  370\n",
      "Non-Constant Features:  336\n"
     ]
    }
   ],
   "source": [
    "#Number of features that are non-constant\n",
    "\n",
    "print(\"Originial Features: \",X_train.shape[1])\n",
    "print(\"Non-Constant Features: \", sum(vthres.get_support()))"
   ]
  },
  {
   "cell_type": "code",
   "execution_count": 8,
   "id": "a29cca25",
   "metadata": {
    "execution": {
     "iopub.execute_input": "2023-04-05T02:24:28.717083Z",
     "iopub.status.busy": "2023-04-05T02:24:28.715811Z",
     "iopub.status.idle": "2023-04-05T02:24:28.748690Z",
     "shell.execute_reply": "2023-04-05T02:24:28.747668Z"
    },
    "papermill": {
     "duration": 0.04281,
     "end_time": "2023-04-05T02:24:28.751237",
     "exception": false,
     "start_time": "2023-04-05T02:24:28.708427",
     "status": "completed"
    },
    "tags": []
   },
   "outputs": [
    {
     "name": "stdout",
     "output_type": "stream",
     "text": [
      "34\n"
     ]
    },
    {
     "data": {
      "text/plain": [
       "['ind_var2_0',\n",
       " 'ind_var2',\n",
       " 'ind_var27_0',\n",
       " 'ind_var28_0',\n",
       " 'ind_var28',\n",
       " 'ind_var27',\n",
       " 'ind_var41',\n",
       " 'ind_var46_0',\n",
       " 'ind_var46',\n",
       " 'num_var27_0',\n",
       " 'num_var28_0',\n",
       " 'num_var28',\n",
       " 'num_var27',\n",
       " 'num_var41',\n",
       " 'num_var46_0',\n",
       " 'num_var46',\n",
       " 'saldo_var28',\n",
       " 'saldo_var27',\n",
       " 'saldo_var41',\n",
       " 'saldo_var46',\n",
       " 'imp_amort_var18_hace3',\n",
       " 'imp_amort_var34_hace3',\n",
       " 'imp_reemb_var13_hace3',\n",
       " 'imp_reemb_var33_hace3',\n",
       " 'imp_trasp_var17_out_hace3',\n",
       " 'imp_trasp_var33_out_hace3',\n",
       " 'num_var2_0_ult1',\n",
       " 'num_var2_ult1',\n",
       " 'num_reemb_var13_hace3',\n",
       " 'num_reemb_var33_hace3',\n",
       " 'num_trasp_var17_out_hace3',\n",
       " 'num_trasp_var33_out_hace3',\n",
       " 'saldo_var2_ult1',\n",
       " 'saldo_medio_var13_medio_hace3']"
      ]
     },
     "execution_count": 8,
     "metadata": {},
     "output_type": "execute_result"
    }
   ],
   "source": [
    "# printing the constant features\n",
    "\n",
    "print(len([\n",
    "        x for x in X_train.columns\n",
    "        if x not in X_train.columns[vthres.get_support()]\n",
    "    ]))\n",
    "\n",
    "[x for x in X_train.columns if x not in X_train.columns[vthres.get_support()]]"
   ]
  },
  {
   "cell_type": "markdown",
   "id": "c15af92c",
   "metadata": {
    "papermill": {
     "duration": 0.006033,
     "end_time": "2023-04-05T02:24:28.764328",
     "exception": false,
     "start_time": "2023-04-05T02:24:28.758295",
     "status": "completed"
    },
    "tags": []
   },
   "source": [
    "> We can see the above 34 columns have constant value hence we are going to get rid of them, as they make no contributions."
   ]
  },
  {
   "cell_type": "code",
   "execution_count": 9,
   "id": "08767788",
   "metadata": {
    "execution": {
     "iopub.execute_input": "2023-04-05T02:24:28.778742Z",
     "iopub.status.busy": "2023-04-05T02:24:28.778351Z",
     "iopub.status.idle": "2023-04-05T02:24:28.921739Z",
     "shell.execute_reply": "2023-04-05T02:24:28.919914Z"
    },
    "papermill": {
     "duration": 0.154189,
     "end_time": "2023-04-05T02:24:28.924885",
     "exception": false,
     "start_time": "2023-04-05T02:24:28.770696",
     "status": "completed"
    },
    "tags": []
   },
   "outputs": [],
   "source": [
    "# Dropping the columns from train and test sets\n",
    "\n",
    "X_train = vthres.transform(X_train)\n",
    "df_test = vthres.transform(df_test)"
   ]
  },
  {
   "cell_type": "code",
   "execution_count": 10,
   "id": "cc4cc389",
   "metadata": {
    "execution": {
     "iopub.execute_input": "2023-04-05T02:24:28.939855Z",
     "iopub.status.busy": "2023-04-05T02:24:28.939504Z",
     "iopub.status.idle": "2023-04-05T02:24:28.947049Z",
     "shell.execute_reply": "2023-04-05T02:24:28.945996Z"
    },
    "papermill": {
     "duration": 0.017791,
     "end_time": "2023-04-05T02:24:28.949308",
     "exception": false,
     "start_time": "2023-04-05T02:24:28.931517",
     "status": "completed"
    },
    "tags": []
   },
   "outputs": [
    {
     "data": {
      "text/plain": [
       "((76020, 336), (75818, 336))"
      ]
     },
     "execution_count": 10,
     "metadata": {},
     "output_type": "execute_result"
    }
   ],
   "source": [
    "# Checking the updated shape of train and test data\n",
    "\n",
    "X_train.shape, df_test.shape"
   ]
  },
  {
   "cell_type": "code",
   "execution_count": null,
   "id": "738f9a76",
   "metadata": {
    "papermill": {
     "duration": 0.006117,
     "end_time": "2023-04-05T02:24:28.962282",
     "exception": false,
     "start_time": "2023-04-05T02:24:28.956165",
     "status": "completed"
    },
    "tags": []
   },
   "outputs": [],
   "source": []
  },
  {
   "cell_type": "code",
   "execution_count": null,
   "id": "1bdc2aba",
   "metadata": {
    "papermill": {
     "duration": 0.005981,
     "end_time": "2023-04-05T02:24:28.974617",
     "exception": false,
     "start_time": "2023-04-05T02:24:28.968636",
     "status": "completed"
    },
    "tags": []
   },
   "outputs": [],
   "source": []
  },
  {
   "cell_type": "code",
   "execution_count": null,
   "id": "4143b38d",
   "metadata": {
    "papermill": {
     "duration": 0.006039,
     "end_time": "2023-04-05T02:24:28.987023",
     "exception": false,
     "start_time": "2023-04-05T02:24:28.980984",
     "status": "completed"
    },
    "tags": []
   },
   "outputs": [],
   "source": []
  },
  {
   "cell_type": "code",
   "execution_count": null,
   "id": "f3815335",
   "metadata": {
    "papermill": {
     "duration": 0.006242,
     "end_time": "2023-04-05T02:24:28.999803",
     "exception": false,
     "start_time": "2023-04-05T02:24:28.993561",
     "status": "completed"
    },
    "tags": []
   },
   "outputs": [],
   "source": []
  },
  {
   "cell_type": "code",
   "execution_count": null,
   "id": "c8382be6",
   "metadata": {
    "papermill": {
     "duration": 0.006167,
     "end_time": "2023-04-05T02:24:29.012581",
     "exception": false,
     "start_time": "2023-04-05T02:24:29.006414",
     "status": "completed"
    },
    "tags": []
   },
   "outputs": [],
   "source": []
  },
  {
   "cell_type": "code",
   "execution_count": null,
   "id": "0a2bc90e",
   "metadata": {
    "papermill": {
     "duration": 0.006293,
     "end_time": "2023-04-05T02:24:29.025437",
     "exception": false,
     "start_time": "2023-04-05T02:24:29.019144",
     "status": "completed"
    },
    "tags": []
   },
   "outputs": [],
   "source": []
  },
  {
   "cell_type": "code",
   "execution_count": null,
   "id": "4bcde4fc",
   "metadata": {
    "papermill": {
     "duration": 0.00638,
     "end_time": "2023-04-05T02:24:29.038704",
     "exception": false,
     "start_time": "2023-04-05T02:24:29.032324",
     "status": "completed"
    },
    "tags": []
   },
   "outputs": [],
   "source": []
  },
  {
   "cell_type": "code",
   "execution_count": null,
   "id": "81035529",
   "metadata": {
    "papermill": {
     "duration": 0.006246,
     "end_time": "2023-04-05T02:24:29.051701",
     "exception": false,
     "start_time": "2023-04-05T02:24:29.045455",
     "status": "completed"
    },
    "tags": []
   },
   "outputs": [],
   "source": []
  },
  {
   "cell_type": "code",
   "execution_count": null,
   "id": "a8943aa8",
   "metadata": {
    "papermill": {
     "duration": 0.006368,
     "end_time": "2023-04-05T02:24:29.065290",
     "exception": false,
     "start_time": "2023-04-05T02:24:29.058922",
     "status": "completed"
    },
    "tags": []
   },
   "outputs": [],
   "source": []
  },
  {
   "cell_type": "code",
   "execution_count": null,
   "id": "d6bb6c04",
   "metadata": {
    "papermill": {
     "duration": 0.00605,
     "end_time": "2023-04-05T02:24:29.077733",
     "exception": false,
     "start_time": "2023-04-05T02:24:29.071683",
     "status": "completed"
    },
    "tags": []
   },
   "outputs": [],
   "source": []
  },
  {
   "cell_type": "code",
   "execution_count": null,
   "id": "28548776",
   "metadata": {
    "papermill": {
     "duration": 0.006509,
     "end_time": "2023-04-05T02:24:29.091388",
     "exception": false,
     "start_time": "2023-04-05T02:24:29.084879",
     "status": "completed"
    },
    "tags": []
   },
   "outputs": [],
   "source": []
  },
  {
   "cell_type": "code",
   "execution_count": null,
   "id": "81292bc1",
   "metadata": {
    "papermill": {
     "duration": 0.006316,
     "end_time": "2023-04-05T02:24:29.104522",
     "exception": false,
     "start_time": "2023-04-05T02:24:29.098206",
     "status": "completed"
    },
    "tags": []
   },
   "outputs": [],
   "source": []
  },
  {
   "cell_type": "code",
   "execution_count": null,
   "id": "51126651",
   "metadata": {
    "papermill": {
     "duration": 0.006279,
     "end_time": "2023-04-05T02:24:29.117539",
     "exception": false,
     "start_time": "2023-04-05T02:24:29.111260",
     "status": "completed"
    },
    "tags": []
   },
   "outputs": [],
   "source": []
  },
  {
   "cell_type": "code",
   "execution_count": null,
   "id": "43d5262f",
   "metadata": {
    "papermill": {
     "duration": 0.006368,
     "end_time": "2023-04-05T02:24:29.130529",
     "exception": false,
     "start_time": "2023-04-05T02:24:29.124161",
     "status": "completed"
    },
    "tags": []
   },
   "outputs": [],
   "source": []
  },
  {
   "cell_type": "code",
   "execution_count": null,
   "id": "635b75b1",
   "metadata": {
    "papermill": {
     "duration": 0.006355,
     "end_time": "2023-04-05T02:24:29.143918",
     "exception": false,
     "start_time": "2023-04-05T02:24:29.137563",
     "status": "completed"
    },
    "tags": []
   },
   "outputs": [],
   "source": []
  },
  {
   "cell_type": "code",
   "execution_count": null,
   "id": "2821204d",
   "metadata": {
    "papermill": {
     "duration": 0.00635,
     "end_time": "2023-04-05T02:24:29.156926",
     "exception": false,
     "start_time": "2023-04-05T02:24:29.150576",
     "status": "completed"
    },
    "tags": []
   },
   "outputs": [],
   "source": []
  },
  {
   "cell_type": "markdown",
   "id": "e45fc790",
   "metadata": {
    "papermill": {
     "duration": 0.006332,
     "end_time": "2023-04-05T02:24:29.170010",
     "exception": false,
     "start_time": "2023-04-05T02:24:29.163678",
     "status": "completed"
    },
    "tags": []
   },
   "source": [
    "### PCA\n",
    "\n",
    "PCA stands for Principal Component Analysis. It is a statistical technique used to reduce the dimensionality of a dataset while retaining as much of the variation in the data as possible.\n",
    "\n",
    "PCA works by transforming a dataset consisting of many variables into a smaller set of variables called principal components. The principal components are linear combinations of the original variables that capture the maximum amount of variation in the data.\n",
    "\n",
    "The first principal component captures the most variation in the data, the second principal component captures the second most variation, and so on. By retaining only the top principal components, PCA can reduce the number of variables in the dataset while still preserving most of the information.\n",
    "\n",
    "PCA is often used in data preprocessing, data visualization, and machine learning. It can be used to identify patterns and relationships in the data, to reduce noise, and to create more parsimonious models."
   ]
  },
  {
   "cell_type": "code",
   "execution_count": null,
   "id": "89b9fce6",
   "metadata": {
    "execution": {
     "iopub.execute_input": "2023-04-05T00:50:54.756357Z",
     "iopub.status.busy": "2023-04-05T00:50:54.755602Z",
     "iopub.status.idle": "2023-04-05T00:50:54.769079Z",
     "shell.execute_reply": "2023-04-05T00:50:54.767426Z",
     "shell.execute_reply.started": "2023-04-05T00:50:54.756309Z"
    },
    "papermill": {
     "duration": 0.006286,
     "end_time": "2023-04-05T02:24:29.182992",
     "exception": false,
     "start_time": "2023-04-05T02:24:29.176706",
     "status": "completed"
    },
    "tags": []
   },
   "outputs": [],
   "source": []
  }
 ],
 "metadata": {
  "kernelspec": {
   "display_name": "Python 3",
   "language": "python",
   "name": "python3"
  },
  "language_info": {
   "codemirror_mode": {
    "name": "ipython",
    "version": 3
   },
   "file_extension": ".py",
   "mimetype": "text/x-python",
   "name": "python",
   "nbconvert_exporter": "python",
   "pygments_lexer": "ipython3",
   "version": "3.7.12"
  },
  "papermill": {
   "default_parameters": {},
   "duration": 20.170202,
   "end_time": "2023-04-05T02:24:32.309902",
   "environment_variables": {},
   "exception": null,
   "input_path": "__notebook__.ipynb",
   "output_path": "__notebook__.ipynb",
   "parameters": {},
   "start_time": "2023-04-05T02:24:12.139700",
   "version": "2.4.0"
  }
 },
 "nbformat": 4,
 "nbformat_minor": 5
}
